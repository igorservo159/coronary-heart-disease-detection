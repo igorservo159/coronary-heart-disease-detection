{
  "cells": [
    {
      "metadata": {
        "id": "wiYxlaZttUiD"
      },
      "cell_type": "markdown",
      "source": [
        "# Predição de desenvolvimento de doença cardíaca coronária em até 10 anos usando regressão logística\n"
      ]
    },
    {
      "cell_type": "markdown",
      "source": [
        "### Importar Dependências\n"
      ],
      "metadata": {
        "id": "vY2v1yXX1IEl"
      }
    },
    {
      "metadata": {
        "_uuid": "8f2839f25d086af736a60e9eeb907d3b93b6e0e5",
        "_cell_guid": "b1076dfc-b9ad-4769-8c92-a6c4dae69d19",
        "trusted": true,
        "id": "_KlX1svCtUiH"
      },
      "cell_type": "code",
      "source": [
        "import numpy as np\n",
        "import pandas as pd\n",
        "\n",
        "import sklearn\n",
        "from sklearn.model_selection import ShuffleSplit\n",
        "from sklearn.metrics import accuracy_score\n",
        "from sklearn.preprocessing import Normalizer\n",
        "from sklearn.metrics import precision_score, recall_score, f1_score, roc_auc_score"
      ],
      "execution_count": null,
      "outputs": []
    },
    {
      "cell_type": "markdown",
      "source": [
        "### Base de dados\n",
        "\n",
        "Clique [aqui](https://www.kaggle.com/dileep070/heart-disease-prediction-using-logistic-regression) para baixar o arquivo da base de dados framingham.csv\n",
        "\n"
      ],
      "metadata": {
        "id": "Ksv7B4qz1Oz7"
      }
    },
    {
      "metadata": {
        "_uuid": "d629ff2d2480ee46fbb7e2d37f6b5fab8052498a",
        "_cell_guid": "79c7e3d0-c299-4dcb-8224-4455121ee9b0",
        "trusted": true,
        "id": "LPFDTIxRtUiK"
      },
      "cell_type": "code",
      "source": [
        "data = pd.read_csv(\"framingham.csv\")\n"
      ],
      "execution_count": null,
      "outputs": []
    },
    {
      "cell_type": "markdown",
      "source": [
        "### Pré-processamento"
      ],
      "metadata": {
        "id": "2jZFtT8C1-ps"
      }
    },
    {
      "metadata": {
        "id": "C_gDc-gVtUiL"
      },
      "cell_type": "markdown",
      "source": [
        "> Eliminar as linhas que contêm valores nulos, pois elas não contêm todas as informações referentes ao paciente.\n",
        "\n",
        "> Separar a variável alvo `alv`, que representa se o paciente teve doença cardíaca em 10 anos, do restante `res`"
      ]
    },
    {
      "metadata": {
        "trusted": true,
        "id": "AKkgKYvztUiM"
      },
      "cell_type": "code",
      "source": [
        "data.dropna(axis = 0, inplace = True)\n",
        "\n",
        "alv = data.TenYearCHD.values\n",
        "res = data.drop(['TenYearCHD'], axis = 1)"
      ],
      "execution_count": null,
      "outputs": []
    },
    {
      "metadata": {
        "id": "ujhNKB6StUiO"
      },
      "cell_type": "raw",
      "source": [
        "> Normalizar os dados de res para que todos os atributos tenham média 0 e desvio padrão 1\n",
        "\n",
        "A normalização dos dados é feita para garantir que todos os atributos no conjunto de dados estejam na mesma escala. Isso é importante para evitar domínio de atributos com maior escala no resultado final.\n"
      ]
    },
    {
      "metadata": {
        "trusted": true,
        "id": "45Q83CxhtUiP"
      },
      "cell_type": "code",
      "source": [
        "normalizer = Normalizer()\n",
        "res = normalizer.fit_transform(res)"
      ],
      "execution_count": null,
      "outputs": []
    },
    {
      "cell_type": "markdown",
      "source": [
        "> Separar 20% dos dados serão usados para teste (`subset_b`), enquanto 80% serão usados para treinamento (`subset_a`).\n"
      ],
      "metadata": {
        "id": "C5cR0-gR6rJx"
      }
    },
    {
      "metadata": {
        "trusted": true,
        "id": "LeM_i3M-tUiQ"
      },
      "cell_type": "code",
      "source": [
        "splitter = ShuffleSplit(n_splits=1, test_size=0.2, random_state=42)\n",
        "\n",
        "for subset_a_idx, subset_b_idx in splitter.split(res):\n",
        "    res_subset_a, res_subset_b = res[subset_a_idx].T, res[subset_b_idx].T\n",
        "    alv_subset_a, alv_subset_b = alv[subset_a_idx].T, alv[subset_b_idx].T"
      ],
      "execution_count": null,
      "outputs": []
    },
    {
      "metadata": {
        "id": "syw0O_vjtUiQ"
      },
      "cell_type": "markdown",
      "source": [
        "# Regressão Logística\n",
        "\n",
        "O valor $z^{(i)}$ é o resultado da combinação linear entre os pesos $w$, as características $res^{(i)}$ e o viés bb. Assim, calcula-se uma estimativa inicial com base nos pesos, entradas e viés.\n",
        "\n",
        "$$ z^{(i)} = w^T res^{(i)} + b $$\n",
        "\n",
        "---\n",
        "\n",
        "A função sigmoide transforma $z^{(i)}$ em uma probabilidade, restringindo seu valor ao intervalo [0,1].\n",
        "\n",
        "$$\\hat{alv}^{(i)} = a^{(i)} = sigmoid(z^{(i)})$$\n",
        "\n",
        "---\n",
        "\n",
        "A entropia cruzada binária mede a diferença entre a predição $a^{(i)}$ (saída do modelo) e o valor real $alv^{(i)}$. Penalizando predições incorretas de maneira proporcional à distância da predição ao valor verdadeiro.\n",
        "\n",
        "$$ \\mathcal{L}(a^{(i)}, alv^{(i)}) =  - alv^{(i)}  \\log(a^{(i)}) - (1-alv^{(i)} )  \\log(1-a^{(i)})$$\n",
        "\n",
        "---\n",
        "\n",
        "O custo total $J$ é a média das perdas $\\mathcal{L}$ para todas as $m$ amostras. Este valor é usado para avaliar o desempenho do modelo e orientar o treinamento, pois resume as perdas de todas as amostras, fornecendo um único valor que guia o processo de otimização.\n",
        "$$ J = \\frac{1}{m} \\sum_{i=1}^m \\mathcal{L}(a^{(i)}, alv^{(i)})$$"
      ]
    },
    {
      "cell_type": "markdown",
      "source": [
        "> Função para inicializar os parâmetros de um modelo com zeros para um dado número de variáveis"
      ],
      "metadata": {
        "id": "NImVRq84M6by"
      }
    },
    {
      "metadata": {
        "trusted": true,
        "id": "-MO4exRwtUiR"
      },
      "cell_type": "code",
      "source": [
        "def initialize_parameters(variables):\n",
        "    weights = np.zeros((variables, 1))\n",
        "    bias = 0\n",
        "    return weights, bias"
      ],
      "execution_count": null,
      "outputs": []
    },
    {
      "metadata": {
        "id": "VTkweMrAtUiS"
      },
      "cell_type": "markdown",
      "source": [
        "## Função Sigmoide\n",
        "\n",
        "A função sigmoide é usada para converter um valor em uma probabilidade no intervalo \\[0, 1]\\:\n",
        "\n",
        "\n",
        "$$sigmoid(w^T res + b) = \\frac{1}{1 + e^{-(w^T res + b)}}\n",
        "$$\n",
        "\n",
        "Onde:\n",
        "- $w^T res + b$ é a combinação linear das características `res`, pesos `w` e viés `b`.\n",
        "- A função sigmoide mapeia o valor de entrada para uma probabilidade.\n"
      ]
    },
    {
      "metadata": {
        "trusted": true,
        "id": "zT9FYEdStUiS"
      },
      "cell_type": "code",
      "source": [
        "def sigmoid(z):\n",
        "    \"\"\"\n",
        "    Calcula a função sigmoide de uma entrada escalar ou matriz.\n",
        "\n",
        "    Parâmetros:\n",
        "        z (float ou np.array): Valor escalar ou array de entrada.\n",
        "\n",
        "    Retorna:\n",
        "        float ou np.array: Resultado da aplicação da função sigmoide.\n",
        "    \"\"\"\n",
        "    return 1 / (1 + np.exp(-z))"
      ],
      "execution_count": null,
      "outputs": []
    },
    {
      "metadata": {
        "id": "QR64zD3HtUiT"
      },
      "cell_type": "markdown",
      "source": [
        "## Propagação na Regressão Logística\n",
        "\n",
        "**Propagação direta**\n",
        "\n",
        "Durante a propagação direta, calculamos a predição $A$ usando a função sigmoide:\n",
        "\n",
        "$$ A = \\sigma(w^T X + b) = (a^{(1)}, a^{(2)}, \\dots, a^{(m)}) $$\n",
        "\n",
        "**Função de custo**\n",
        "\n",
        "A função de custo mede o erro da predição em relação aos valores reais:\n",
        "$$ J = -\\frac{1}{m} \\sum_{i=1}^{m} \\Big[ y^{(i)} \\log(a^{(i)}) + (1-y^{(i)}) \\log(1-a^{(i)}) \\Big] $$\n",
        "\n",
        "**Propagação inversa**\n",
        "\n",
        "Para otimizar os pesos $w$ e o viés $b$, calculamos os gradientes:\n",
        "\n",
        "Gradiente em relação aos pesos:\n",
        "\n",
        "$$ \\frac{\\partial J}{\\partial w} = \\frac{1}{m} X (A - Y)^T $$\n",
        "\n",
        "Gradiente em relação ao viés:\n",
        "\n",
        "$$ \\frac{\\partial J}{\\partial b} = \\frac{1}{m} \\sum_{i=1}^m (a^{(i)} - y^{(i)}) $$\n",
        "\n",
        "Esses gradientes são usados no processo de descida do gradiente para ajustar os parâmetros.\n"
      ]
    },
    {
      "metadata": {
        "trusted": true,
        "id": "typBiyputUiT"
      },
      "cell_type": "code",
      "source": [
        "def propagate(weights, bias, features, labels):\n",
        "    \"\"\"\n",
        "    Executa a propagação direta e inversa na regressão logística.\n",
        "\n",
        "    Parâmetros:\n",
        "        weights (np.array): Vetor de pesos, de dimensão (num_features, 1).\n",
        "        bias (float): Viés escalar.\n",
        "        features (np.array): Matriz de entradas (num_features, num_samples).\n",
        "        labels (np.array): Vetor de rótulos reais (1, num_samples).\n",
        "\n",
        "    Retorna:\n",
        "        dict: Gradientes \"dw\" (pesos) e \"db\" (viés).\n",
        "        float: Custo total.\n",
        "    \"\"\"\n",
        "\n",
        "    num_samples = features.shape[1]\n",
        "\n",
        "    z = np.dot(weights.T, features) + bias\n",
        "    predictions = sigmoid(z)\n",
        "    loss = - (labels * np.log(predictions) + (1 - labels) * np.log(1 - predictions))\n",
        "    cost = np.sum(loss) / num_samples\n",
        "\n",
        "    dw = (1 / num_samples) * np.dot(features, (predictions - labels).T)\n",
        "    db = (1 / num_samples) * np.sum(predictions - labels)\n",
        "\n",
        "    gradients = {\"dw\": dw, \"db\": db}\n",
        "\n",
        "    return gradients, cost\n"
      ],
      "execution_count": null,
      "outputs": []
    },
    {
      "metadata": {
        "id": "poEn2kUJtUiT"
      },
      "cell_type": "markdown",
      "source": [
        "## Atualização de Pesos e Viés\n",
        "\n",
        "Durante o treinamento do modelo, o objetivo é ajustar os pesos $w$ e o viés $b$ para minimizar o custo. A atualização dos parâmetros é feita usando a fórmula do gradiente descendente:\n",
        "\n",
        "$$ w = w - \\text{learning rate} \\times \\frac{\\partial J}{\\partial w} $$\n",
        "\n",
        "$$ b = b - \\text{learning rate} \\times \\frac{\\partial J}{\\partial b} $$\n",
        "\n",
        "A cada iteração, calculamos os gradientes $\\frac{\\partial J}{\\partial w}$ e $\\frac{\\partial J}{\\partial b}$ e ajustamos os pesos e viés de acordo. Tentamos minimizar o custo ao longo das iterações, registrando o valor do custo em intervalos específicos.\n"
      ]
    },
    {
      "metadata": {
        "trusted": true,
        "id": "sctUdNUstUiU"
      },
      "cell_type": "code",
      "source": [
        "def update_weights_and_bias(weights, bias, features, labels, num_iterations, learning_rate):\n",
        "    \"\"\"\n",
        "    Atualiza os pesos e o viés usando o algoritmo de gradiente descendente.\n",
        "\n",
        "    Parâmetros:\n",
        "        weights (np.array): Vetor de pesos, de dimensão (num_features, 1).\n",
        "        bias (float): Viés escalar.\n",
        "        features (np.array): Matriz de entradas (num_features, num_samples).\n",
        "        labels (np.array): Vetor de rótulos reais (1, num_samples).\n",
        "        num_iterations (int): Número de iterações do treinamento.\n",
        "        learning_rate (float): Taxa de aprendizado para ajustar os parâmetros.\n",
        "\n",
        "    Retorna:\n",
        "        dict: Parâmetros atualizados (\"weights\" e \"bias\").\n",
        "        dict: Gradientes finais (\"dw\" e \"db\").\n",
        "        list: Histórico de custos a cada 20 iterações.\n",
        "    \"\"\"\n",
        "    costs = []\n",
        "\n",
        "    for iteration in range(num_iterations):\n",
        "        gradients, cost = propagate(weights, bias, features, labels)\n",
        "\n",
        "        dw = gradients['dw']\n",
        "        db = gradients['db']\n",
        "\n",
        "        weights -= learning_rate * dw\n",
        "        bias -= learning_rate * db\n",
        "\n",
        "        # Essa parte do código tem como objetivo armazenar o valor do custo a cada 20 iterações do treinamento\n",
        "        # Assim, você consegue visualizar a tendência do custo sem que os dados fiquem excessivamente densos.\n",
        "        if iteration % 20 == 0:\n",
        "            costs.append(cost)\n",
        "\n",
        "    parameters = {\"w\": weights, \"b\": bias}\n",
        "    gradients = {\"dw\": dw, \"db\": db}\n",
        "\n",
        "    return parameters, gradients, costs\n"
      ],
      "execution_count": null,
      "outputs": []
    },
    {
      "metadata": {
        "id": "PpFWSQXBtUiU"
      },
      "cell_type": "markdown",
      "source": [
        "## Predição\n",
        "\n",
        "Após treinar o modelo, podemos usá-lo para fazer predições sobre novos dados. A predição é realizada aplicando a função sigmoide aos dados de entrada `res`, com os pesos $w$ e o viés $b$. A fórmula é a seguinte:\n",
        "\n",
        "$$ \\hat{alv} = A = \\sigma(w^T res + b) $$\n",
        "\n",
        "O valor final de $\\hat{alv}$ será 1 se a probabilidade for maior que 0.5, caso contrário será 0.\n",
        "\n",
        "A predição de $\\hat{alv}$ nos permite classificar os dados em duas categorias.\n"
      ]
    },
    {
      "metadata": {
        "trusted": true,
        "id": "eYx0qlaetUiV"
      },
      "cell_type": "code",
      "source": [
        "def predict(weights, bias, features):\n",
        "    \"\"\"\n",
        "    Realiza a predição com base nos dados de entrada, pesos e viés.\n",
        "\n",
        "    Parâmetros:\n",
        "        weights (np.array): Vetor de pesos, de dimensão (num_features, 1).\n",
        "        bias (float): Viés escalar.\n",
        "        features (np.array): Matriz de entradas (num_features, num_samples).\n",
        "\n",
        "    Retorna:\n",
        "        np.array: Vetor de predições (1, num_samples), onde 1 indica a classe positiva e 0 a classe negativa.\n",
        "    \"\"\"\n",
        "    num_samples = features.shape[1]\n",
        "    Y_prediction = np.zeros((1, num_samples))\n",
        "    weights = weights.reshape(features.shape[0], 1)\n",
        "\n",
        "    # Cálculo da predição\n",
        "    A = sigmoid(np.dot(weights.T, features) + bias)\n",
        "\n",
        "    # Classificação com base na probabilidade\n",
        "    for i in range(A.shape[1]):\n",
        "        if A[:, i] > 0.5:\n",
        "            Y_prediction[:, i] = 1  # Classifica como 1 se a probabilidade for maior que 0.5\n",
        "\n",
        "    return Y_prediction\n"
      ],
      "execution_count": null,
      "outputs": []
    },
    {
      "cell_type": "markdown",
      "source": [
        "O valor 0.5 é comumente utilizado como limiar em modelos de classificação binária que utilizam a função sigmoide, porque ele representa o ponto de equilíbrio entre as duas classes. A função sigmoide mapeia os valores de entrada para o intervalo entre 0 e 1, onde a saída é interpretada como uma probabilidade. Quando a probabilidade é maior que 0.5, o modelo classifica a amostra como pertencente à classe positiva (classe 1); se for menor que 0.5, a amostra é classificada como classe negativa (classe 0). O valor 0.5 é escolhido porque ele indica um ponto de decisão neutro, onde o modelo não tem uma preferência clara por nenhuma das classes, sendo ideal para problemas onde ambas as classes têm importância equivalente. No entanto, o limiar pode ser ajustado em casos específicos onde há necessidade de reduzir falsos positivos ou falsos negativos, como em problemas de detecção de fraudes, por exemplo."
      ],
      "metadata": {
        "id": "GR6DYeyeXNao"
      }
    },
    {
      "metadata": {
        "id": "7Wb_zVoetUiV"
      },
      "cell_type": "markdown",
      "source": [
        "## Modelo de Regressão Logística\n",
        "\n",
        "O modelo de regressão logística é integrado usando as funções definidas anteriormente. Para este conjunto de dados, temos 14 atributos (ou características) na variável independente, então inicializamos os pesos $w$ e o viés $b$ com a dimensão correspondente.\n",
        "\n",
        "A sequência de operações inclui:\n",
        "1. Inicialização dos pesos e viés.\n",
        "2. Atualização dos parâmetros usando gradiente descendente.\n",
        "3. Predição do modelo para o conjunto de teste.\n",
        "4. Cálculo da acurácia, comparando as predições com os valores reais.\n",
        "5. Retorno de um dicionário contendo as predições, pesos, viés e histórico de custos.\n",
        "\n",
        "O objetivo final é treinar o modelo e verificar sua acurácia no conjunto de testes.\n"
      ]
    },
    {
      "metadata": {
        "trusted": true,
        "id": "5WcWEvnVtUiV"
      },
      "cell_type": "code",
      "source": [
        "def Logistic_Regression_model(X_train, X_test, Y_train, Y_test, num_iterations, learning_rate):\n",
        "    # Inicializar parâmetros\n",
        "    num_features = X_train.shape[0]\n",
        "    w, b = initialize_parameters(num_features)\n",
        "\n",
        "    # Atualizar pesos e viés\n",
        "    parameters, gradient, costs = update_weights_and_bias(w, b, X_train, Y_train, num_iterations, learning_rate)\n",
        "\n",
        "    # Obter os pesos finais\n",
        "    w = parameters[\"w\"]\n",
        "    b = parameters[\"b\"]\n",
        "\n",
        "    # Fazer previsões nos dados de teste\n",
        "    Y_Test_Predict = (predict(w, b, X_test) > 0.5).astype(int).reshape(-1)\n",
        "\n",
        "    # Garantir que Y_Test_Predict tenha a forma correta\n",
        "    Y_Test_Predict = Y_Test_Predict.reshape(-1)\n",
        "\n",
        "    # Calcular a acurácia\n",
        "    accuracy = 100 - np.mean(np.abs(Y_Test_Predict - Y_test)) * 100\n",
        "\n",
        "    print(f\"Acurácia: {accuracy} %\")\n",
        "\n",
        "    # Armazenar as predições, pesos, viés e custo\n",
        "    Dictionary = {\"Predição\": Y_Test_Predict,\n",
        "                  \"Peso\": w,\n",
        "                  \"Viés\": b,\n",
        "                  \"Custo\": costs,\n",
        "                  \"Acurácia\": accuracy}\n",
        "\n",
        "    return Dictionary\n"
      ],
      "execution_count": null,
      "outputs": []
    },
    {
      "metadata": {
        "trusted": true,
        "colab": {
          "base_uri": "https://localhost:8080/"
        },
        "id": "T_iKgnwntUiW",
        "outputId": "697c79c2-8366-40e5-9f52-9c5f0a3dc4ed"
      },
      "cell_type": "code",
      "source": [
        "Dictionary = Logistic_Regression_model(res_subset_a, res_subset_b, alv_subset_a, alv_subset_b, num_iterations = 1000, learning_rate = 0.10 )\n"
      ],
      "execution_count": null,
      "outputs": [
        {
          "output_type": "stream",
          "name": "stdout",
          "text": [
            "Acurácia: 84.0 %\n"
          ]
        }
      ]
    },
    {
      "metadata": {
        "trusted": true,
        "colab": {
          "base_uri": "https://localhost:8080/",
          "height": 492
        },
        "id": "Z2Y6weP8tUiW",
        "outputId": "c0b06aba-b56a-49d0-afac-eb229bfea8a9"
      },
      "cell_type": "code",
      "source": [
        "import matplotlib.pyplot as plt\n",
        "costs = np.squeeze(Dictionary['Custo'])\n",
        "plt.plot(costs)\n",
        "plt.ylabel('custo')\n",
        "plt.xlabel('iterações')\n",
        "plt.title(\"Curva de aprendizado\")\n",
        "plt.show()"
      ],
      "execution_count": null,
      "outputs": [
        {
          "output_type": "display_data",
          "data": {
            "text/plain": [
              "<Figure size 640x480 with 1 Axes>"
            ],
            "image/png": "[encoded data removed]"
          },
          "metadata": {}
        }
      ]
    },
    {
      "metadata": {
        "id": "JFtzr1OLtUiX"
      },
      "cell_type": "markdown",
      "source": [
        "Para garantir a precisão do nosso modelo, utilizamos o classificador de Regressão Logística do Sklearn."
      ]
    },
    {
      "metadata": {
        "trusted": true,
        "colab": {
          "base_uri": "https://localhost:8080/"
        },
        "id": "gcRQRUtUtUiX",
        "outputId": "ef76ea39-24a6-4ece-fa00-58924c3294c4"
      },
      "cell_type": "code",
      "source": [
        "from sklearn.linear_model import LogisticRegression\n",
        "lr = LogisticRegression()\n",
        "lr.fit(res_subset_a.T,alv_subset_a.T)\n",
        "print(\"Acurácia {}\".format(lr.score(res_subset_a.T,alv_subset_a.T)))"
      ],
      "execution_count": null,
      "outputs": [
        {
          "output_type": "stream",
          "name": "stdout",
          "text": [
            "Acurácia 0.8492830943647882\n"
          ]
        }
      ]
    },
    {
      "cell_type": "markdown",
      "source": [
        "## Créditos\n",
        "\n",
        "Partes dos códigos implementados neste notebook foram adaptadas do repositório [Heart Disease Prediction using Logistic Regression](https://github.com/tproma/Heart-Disease-Prediction-using-Logistic-Regression/tree/master), que está licenciado sob a [Licença Apache 2.0](http://www.apache.org/licenses/LICENSE-2.0).\n",
        "\n",
        "Conforme os termos da licença, foi mantida a devida atribuição ao autor original e todas as modificações realizadas foram explicitamente indicadas neste trabalho.\n"
      ],
      "metadata": {
        "id": "sg6m2Vj5A_6G"
      }
    }
  ],
  "metadata": {
    "kernelspec": {
      "language": "python",
      "display_name": "Python 3",
      "name": "python3"
    },
    "language_info": {
      "pygments_lexer": "ipython3",
      "nbconvert_exporter": "python",
      "version": "3.6.4",
      "file_extension": ".py",
      "codemirror_mode": {
        "name": "ipython",
        "version": 3
      },
      "name": "python",
      "mimetype": "text/x-python"
    },
    "colab": {
      "provenance": []
    }
  },
  "nbformat": 4,
  "nbformat_minor": 0
}